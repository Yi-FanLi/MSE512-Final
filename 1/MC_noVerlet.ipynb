{
 "cells": [
  {
   "cell_type": "code",
   "execution_count": 1,
   "id": "ea8d4962",
   "metadata": {},
   "outputs": [],
   "source": [
    "import numpy as np\n",
    "import copy\n",
    "from time import time\n",
    "# from numba import njit, prange\n",
    "import matplotlib.pyplot as plt\n",
    "from matplotlib import text\n",
    "%matplotlib inline\n",
    "from mpl_toolkits.axes_grid1.inset_locator import inset_axes, InsetPosition, mark_inset"
   ]
  },
  {
   "cell_type": "code",
   "execution_count": 2,
   "id": "e008356e",
   "metadata": {},
   "outputs": [],
   "source": [
    "def errbar(data):\n",
    "    nsamp = 10\n",
    "    nevery = int(data.shape[0] / nsamp)\n",
    "    data_ = np.zeros(nsamp)\n",
    "    for k in range(nsamp):\n",
    "        data_[k] = data[k*nevery:(k+1)*nevery].mean()\n",
    "    errbar_ = np.sqrt(data_.var()/(nsamp-1))\n",
    "    return errbar_"
   ]
  },
  {
   "cell_type": "code",
   "execution_count": 361,
   "id": "fc24bd3d",
   "metadata": {},
   "outputs": [],
   "source": [
    "colors = [\"red\", \"blue\"]"
   ]
  },
  {
   "cell_type": "code",
   "execution_count": 304,
   "id": "1b690a8e",
   "metadata": {},
   "outputs": [],
   "source": [
    "log_md = np.loadtxt(\"./log\", skiprows=45, max_rows=10001)"
   ]
  },
  {
   "cell_type": "markdown",
   "id": "c49ff904",
   "metadata": {},
   "source": [
    "## Define the LJ pair potential"
   ]
  },
  {
   "cell_type": "code",
   "execution_count": 305,
   "id": "6da716be",
   "metadata": {},
   "outputs": [],
   "source": [
    "xtraj_md = []\n",
    "Ntraj_md = 10001\n",
    "with open(\"lj.xyz\", \"r\") as f:\n",
    "    for i in range(Ntraj_md):\n",
    "        for j in range(9):\n",
    "            f.readline()\n",
    "        for j in range(200):\n",
    "            xtraj_md.append(f.readline().split()[2:])\n",
    "    xtraj_md = np.array(xtraj_md, dtype=\"float\").reshape(Ntraj_md, 200, 3)"
   ]
  },
  {
   "cell_type": "code",
   "execution_count": 4,
   "id": "03c2a8c9",
   "metadata": {},
   "outputs": [],
   "source": [
    "rc = 2.5"
   ]
  },
  {
   "cell_type": "code",
   "execution_count": 5,
   "id": "3e5dbe6d",
   "metadata": {},
   "outputs": [],
   "source": [
    "def lj(r):\n",
    "    return 4*(1/r**12 - 1/r**6)"
   ]
  },
  {
   "cell_type": "code",
   "execution_count": 6,
   "id": "60edd8ef",
   "metadata": {},
   "outputs": [],
   "source": [
    "ljrc = lj(rc)"
   ]
  },
  {
   "cell_type": "code",
   "execution_count": 7,
   "id": "c46742eb",
   "metadata": {},
   "outputs": [],
   "source": [
    "def lj_shift(r):\n",
    "    return lj(r) - ljrc"
   ]
  },
  {
   "cell_type": "markdown",
   "id": "bd1e1cbc",
   "metadata": {},
   "source": [
    "## Read the initial configuration"
   ]
  },
  {
   "cell_type": "code",
   "execution_count": 8,
   "id": "36d4697f",
   "metadata": {},
   "outputs": [],
   "source": [
    "Natom = 0\n",
    "lo = []\n",
    "hi = []\n",
    "x0 = []\n",
    "with open(\"init.xyz\", \"r\") as f:\n",
    "    for i in range(3):\n",
    "        f.readline()\n",
    "    Natom = int(f.readline().split()[0])\n",
    "    f.readline()\n",
    "    for i in range(3):\n",
    "        line = f.readline().split()\n",
    "        lo.append(float(line[0]))\n",
    "        hi.append(float(line[1]))\n",
    "    f.readline()\n",
    "    for i in range(Natom):\n",
    "        x0.append(f.readline().split()[2:])\n",
    "lo = np.array(lo)\n",
    "hi = np.array(hi)\n",
    "prd = hi - lo\n",
    "x0 = np.array(x0, dtype = float)"
   ]
  },
  {
   "cell_type": "markdown",
   "id": "297b27ef",
   "metadata": {},
   "source": [
    "## Distance under the periodic boundary condition"
   ]
  },
  {
   "cell_type": "code",
   "execution_count": 9,
   "id": "62514ae8",
   "metadata": {},
   "outputs": [],
   "source": [
    "def apply_pbc(x, prd, lo):\n",
    "    s = x / prd\n",
    "    return (s - np.floor(s))*prd+lo"
   ]
  },
  {
   "cell_type": "code",
   "execution_count": 10,
   "id": "3b13e3d8",
   "metadata": {},
   "outputs": [],
   "source": [
    "def pbc_dist(dist, prd):\n",
    "    s = dist / prd\n",
    "    return (s - np.floor(s+0.5))*prd"
   ]
  },
  {
   "cell_type": "markdown",
   "id": "323ed5fc",
   "metadata": {},
   "source": [
    "## Potential energy calculation"
   ]
  },
  {
   "cell_type": "code",
   "execution_count": 11,
   "id": "44dc33f9",
   "metadata": {},
   "outputs": [],
   "source": [
    "def epair_atom(x, i):\n",
    "    xi = x[i]\n",
    "    ei = 0.0\n",
    "    xjs = np.delete(x, i, axis=0)\n",
    "    dxs = pbc_dist(xjs-xi, prd)\n",
    "    rijs = np.sqrt((dxs**2).sum(axis=1))\n",
    "    rijs_cut = rijs[rijs <= rc]\n",
    "    eis = lj_shift(rijs_cut)\n",
    "    ei = eis.sum()\n",
    "\n",
    "    return ei"
   ]
  },
  {
   "cell_type": "code",
   "execution_count": 12,
   "id": "dc1c3230",
   "metadata": {},
   "outputs": [],
   "source": [
    "def epair(x):\n",
    "    en = 0.0\n",
    "    for i in range(Natom):\n",
    "        en += epair_atom(x, i)\n",
    "    return en / 2"
   ]
  },
  {
   "cell_type": "code",
   "execution_count": 13,
   "id": "0067316d",
   "metadata": {},
   "outputs": [],
   "source": [
    "elist0 = np.zeros(Natom)\n",
    "for i in range(Natom):\n",
    "    elist0[i] = epair_atom(x0, i)"
   ]
  },
  {
   "cell_type": "code",
   "execution_count": 14,
   "id": "86223239",
   "metadata": {},
   "outputs": [],
   "source": [
    "pot0 = epair(x0)"
   ]
  },
  {
   "cell_type": "markdown",
   "id": "7293eb1b",
   "metadata": {},
   "source": [
    "## Monte Carlo move"
   ]
  },
  {
   "cell_type": "code",
   "execution_count": 177,
   "id": "5f2e2d39",
   "metadata": {},
   "outputs": [],
   "source": [
    "delx = 0.2\n",
    "Temp = 0.45\n",
    "beta = 1. / Temp"
   ]
  },
  {
   "cell_type": "code",
   "execution_count": 178,
   "id": "0b6d49ea",
   "metadata": {},
   "outputs": [],
   "source": [
    "def mcmove(x, rd1, rd2):\n",
    "    t_epair_atom = 0\n",
    "    t_metropolis = 0\n",
    "    t_gennewconf = 0\n",
    "    \n",
    "    tflag0 = time()\n",
    "    accept = 0\n",
    "    idx = int(rd1*Natom)\n",
    "    eno = epair_atom(x, idx)\n",
    "    # generate the new configuration\n",
    "    xi_new = x[idx] + 2*(np.random.rand(3)-0.5)*delx\n",
    "    xi_new = apply_pbc(xi_new-lo, prd, lo)\n",
    "    x_new = copy.deepcopy(x)\n",
    "    x_new[idx] = xi_new    \n",
    "    tflag1 = time()\n",
    "    t_gennewconf += tflag1 - tflag0\n",
    "    \n",
    "    # calculate the potential energy of atom idx with the new configuration\n",
    "    tflag0 = time()\n",
    "    enn = epair_atom(x_new, idx)\n",
    "    tflag1 = time()\n",
    "    t_epair_atom += tflag1 - tflag0\n",
    "    \n",
    "    # determine whether to accept the move using Metropolis rule\n",
    "    tflag0 = time()\n",
    "    delen = enn - eno\n",
    "    arg = np.exp(-beta * delen)\n",
    "    if rd2 < arg:\n",
    "        accept = 1\n",
    "        x = x_new\n",
    "        eiout = enn\n",
    "    else:\n",
    "        delen = 0.0\n",
    "        eiout = eno\n",
    "    tflag1 = time()\n",
    "    t_metropolis += tflag1 - tflag0\n",
    "    return x, idx, delen, accept, t_epair_atom, t_metropolis, t_gennewconf"
   ]
  },
  {
   "cell_type": "code",
   "execution_count": 326,
   "id": "4efedf60",
   "metadata": {},
   "outputs": [
    {
     "name": "stdout",
     "output_type": "stream",
     "text": [
      "  1% completed:       1 to  100000 moves cost 10.8175 s.\n",
      "  2% completed:  100001 to  200000 moves cost 11.2489 s.\n",
      "  3% completed:  200001 to  300000 moves cost 11.0453 s.\n",
      "  4% completed:  300001 to  400000 moves cost 11.0307 s.\n",
      "  5% completed:  400001 to  500000 moves cost 11.0275 s.\n",
      "  6% completed:  500001 to  600000 moves cost 11.3919 s.\n",
      "  7% completed:  600001 to  700000 moves cost 10.9876 s.\n",
      "  8% completed:  700001 to  800000 moves cost 11.1557 s.\n",
      "  9% completed:  800001 to  900000 moves cost 11.1567 s.\n",
      " 10% completed:  900001 to 1000000 moves cost 11.2863 s.\n",
      " 11% completed: 1000001 to 1100000 moves cost 10.8663 s.\n",
      " 12% completed: 1100001 to 1200000 moves cost 11.0203 s.\n",
      " 13% completed: 1200001 to 1300000 moves cost 10.5004 s.\n",
      " 14% completed: 1300001 to 1400000 moves cost 10.1811 s.\n",
      " 15% completed: 1400001 to 1500000 moves cost 10.6998 s.\n",
      " 16% completed: 1500001 to 1600000 moves cost 10.6223 s.\n",
      " 17% completed: 1600001 to 1700000 moves cost 11.0140 s.\n",
      " 18% completed: 1700001 to 1800000 moves cost 10.8535 s.\n",
      " 19% completed: 1800001 to 1900000 moves cost 10.9919 s.\n",
      " 20% completed: 1900001 to 2000000 moves cost 11.2274 s.\n",
      " 21% completed: 2000001 to 2100000 moves cost 11.3684 s.\n",
      " 22% completed: 2100001 to 2200000 moves cost 11.2173 s.\n",
      " 23% completed: 2200001 to 2300000 moves cost 11.2298 s.\n",
      " 24% completed: 2300001 to 2400000 moves cost 10.7931 s.\n",
      " 25% completed: 2400001 to 2500000 moves cost 10.9643 s.\n",
      " 26% completed: 2500001 to 2600000 moves cost 11.1174 s.\n",
      " 27% completed: 2600001 to 2700000 moves cost 10.4915 s.\n",
      " 28% completed: 2700001 to 2800000 moves cost 10.2216 s.\n",
      " 28% completed: 2800001 to 2900000 moves cost 10.2633 s.\n",
      " 30% completed: 2900001 to 3000000 moves cost 10.3170 s.\n",
      " 31% completed: 3000001 to 3100000 moves cost 10.3916 s.\n",
      " 32% completed: 3100001 to 3200000 moves cost 10.2414 s.\n",
      " 33% completed: 3200001 to 3300000 moves cost 10.3063 s.\n",
      " 34% completed: 3300001 to 3400000 moves cost 10.2685 s.\n",
      " 35% completed: 3400001 to 3500000 moves cost 10.1881 s.\n",
      " 36% completed: 3500001 to 3600000 moves cost 10.2150 s.\n",
      " 37% completed: 3600001 to 3700000 moves cost 10.2061 s.\n",
      " 38% completed: 3700001 to 3800000 moves cost 10.1836 s.\n",
      " 39% completed: 3800001 to 3900000 moves cost 10.2234 s.\n",
      " 40% completed: 3900001 to 4000000 moves cost 10.2173 s.\n",
      " 41% completed: 4000001 to 4100000 moves cost 10.3162 s.\n",
      " 42% completed: 4100001 to 4200000 moves cost 10.2962 s.\n",
      " 43% completed: 4200001 to 4300000 moves cost 10.1317 s.\n",
      " 44% completed: 4300001 to 4400000 moves cost 10.1775 s.\n",
      " 45% completed: 4400001 to 4500000 moves cost 10.1230 s.\n",
      " 46% completed: 4500001 to 4600000 moves cost 10.2160 s.\n",
      " 47% completed: 4600001 to 4700000 moves cost 10.1698 s.\n",
      " 48% completed: 4700001 to 4800000 moves cost 10.1840 s.\n",
      " 49% completed: 4800001 to 4900000 moves cost 10.1449 s.\n",
      " 50% completed: 4900001 to 5000000 moves cost 10.1780 s.\n",
      " 51% completed: 5000001 to 5100000 moves cost 10.3072 s.\n",
      " 52% completed: 5100001 to 5200000 moves cost 10.4215 s.\n",
      " 53% completed: 5200001 to 5300000 moves cost 10.3517 s.\n",
      " 54% completed: 5300001 to 5400000 moves cost 10.3185 s.\n",
      " 55% completed: 5400001 to 5500000 moves cost 10.3924 s.\n",
      " 56% completed: 5500001 to 5600000 moves cost 10.3451 s.\n",
      " 56% completed: 5600001 to 5700000 moves cost 10.2894 s.\n",
      " 57% completed: 5700001 to 5800000 moves cost 10.3209 s.\n",
      " 59% completed: 5800001 to 5900000 moves cost 10.3120 s.\n",
      " 60% completed: 5900001 to 6000000 moves cost 10.8138 s.\n",
      " 61% completed: 6000001 to 6100000 moves cost 10.4403 s.\n",
      " 62% completed: 6100001 to 6200000 moves cost 10.1749 s.\n",
      " 63% completed: 6200001 to 6300000 moves cost 10.3186 s.\n",
      " 64% completed: 6300001 to 6400000 moves cost 10.2062 s.\n",
      " 65% completed: 6400001 to 6500000 moves cost 10.1418 s.\n",
      " 66% completed: 6500001 to 6600000 moves cost 10.1324 s.\n",
      " 67% completed: 6600001 to 6700000 moves cost 10.0779 s.\n",
      " 68% completed: 6700001 to 6800000 moves cost 10.2337 s.\n",
      " 69% completed: 6800001 to 6900000 moves cost 10.4232 s.\n",
      " 70% completed: 6900001 to 7000000 moves cost 10.1687 s.\n",
      " 71% completed: 7000001 to 7100000 moves cost 10.2641 s.\n",
      " 72% completed: 7100001 to 7200000 moves cost 10.1432 s.\n",
      " 73% completed: 7200001 to 7300000 moves cost 10.2042 s.\n",
      " 74% completed: 7300001 to 7400000 moves cost 10.7418 s.\n",
      " 75% completed: 7400001 to 7500000 moves cost 10.2849 s.\n",
      " 76% completed: 7500001 to 7600000 moves cost 10.3274 s.\n",
      " 77% completed: 7600001 to 7700000 moves cost 10.2198 s.\n",
      " 78% completed: 7700001 to 7800000 moves cost 10.1918 s.\n",
      " 79% completed: 7800001 to 7900000 moves cost 10.2206 s.\n",
      " 80% completed: 7900001 to 8000000 moves cost 10.2251 s.\n",
      " 81% completed: 8000001 to 8100000 moves cost 10.2101 s.\n",
      " 82% completed: 8100001 to 8200000 moves cost 10.2100 s.\n",
      " 83% completed: 8200001 to 8300000 moves cost 10.1393 s.\n",
      " 84% completed: 8300001 to 8400000 moves cost 10.1732 s.\n",
      " 85% completed: 8400001 to 8500000 moves cost 10.1943 s.\n",
      " 86% completed: 8500001 to 8600000 moves cost 10.1934 s.\n",
      " 87% completed: 8600001 to 8700000 moves cost 10.2613 s.\n",
      " 88% completed: 8700001 to 8800000 moves cost 10.2595 s.\n",
      " 89% completed: 8800001 to 8900000 moves cost 10.3258 s.\n",
      " 90% completed: 8900001 to 9000000 moves cost 10.5028 s.\n",
      " 91% completed: 9000001 to 9100000 moves cost 10.4458 s.\n",
      " 92% completed: 9100001 to 9200000 moves cost 10.3235 s.\n",
      " 93% completed: 9200001 to 9300000 moves cost 10.3163 s.\n",
      " 94% completed: 9300001 to 9400000 moves cost 10.2018 s.\n",
      " 95% completed: 9400001 to 9500000 moves cost 10.1428 s.\n",
      " 96% completed: 9500001 to 9600000 moves cost 10.1609 s.\n",
      " 97% completed: 9600001 to 9700000 moves cost 10.1497 s.\n",
      " 98% completed: 9700001 to 9800000 moves cost 10.1832 s.\n",
      " 99% completed: 9800001 to 9900000 moves cost 10.5432 s.\n",
      "100% completed: 9900001 to 10000000 moves cost 10.4144 s.\n",
      "10000000 MC moves cost 1045.8527 s.\n",
      "\n",
      "Algorithm Statistics:\n",
      "acceptance:            | 5.7059%\n",
      "\n",
      "Time Statistics:\n",
      "epair_atom:        | 4.2322e+02 s. ----> 40.4665%\n",
      "Metropolis:        | 2.4154e+01 s. ----> 2.3095%\n",
      "generate new conf: | 5.6235e+02 s. ----> 53.7697%\n",
      "MC loop:           | 1.0298e+03 s. ----> 98.4686%\n",
      "non-MC loop:       | 9.3044e+00 s. ----> 0.8896%\n"
     ]
    }
   ],
   "source": [
    "Nstep = 10000000\n",
    "Rands1 = np.random.rand(Nstep)\n",
    "Rands2 = np.random.rand(Nstep)\n",
    "Nwrite = 1000\n",
    "Nsamp = int(Nstep/Nwrite)+1\n",
    "Ntime = Nstep / 100\n",
    "Naccept = 0\n",
    "t_epair_atom = 0\n",
    "t_metropolis = 0\n",
    "t_gennewconf = 0\n",
    "t_loop = 0\n",
    "t_nonloop = 0\n",
    "\n",
    "xtraj = np.zeros([Nsamp, Natom, 3])\n",
    "pottraj = np.zeros(Nsamp)\n",
    "xtraj[0] = copy.deepcopy(x0)\n",
    "pottraj[0] = copy.deepcopy(pot0)\n",
    "\n",
    "x = copy.deepcopy(x0)\n",
    "\n",
    "pot = copy.deepcopy(pot0)\n",
    "\n",
    "tstart = time()\n",
    "t2 = tstart\n",
    "for istep in range(Nstep):\n",
    "    tflag0 = time()\n",
    "    x, idx, delen, accept, tmc_epair_atom, tmc_metropolis, tmc_gennewconf = mcmove(x, Rands1[istep], Rands2[istep])\n",
    "    tflag1 = time()\n",
    "    t_loop += tflag1 - tflag0\n",
    "    t_epair_atom += tmc_epair_atom\n",
    "#     t_build_vlist += tmc_build_vlist\n",
    "    t_metropolis += tmc_metropolis\n",
    "    t_gennewconf += tmc_gennewconf\n",
    "#     t_deepcopy += tmc_deepcopy\n",
    "    \n",
    "    tflag0 = time()\n",
    "    pot += delen\n",
    "    Naccept += accept\n",
    "#     Nbuild += build\n",
    "    if (istep+1) % Nwrite == 0:\n",
    "        isamp = int((istep+1)/Nwrite)\n",
    "        xtraj[isamp] = copy.deepcopy(x)\n",
    "        pottraj[isamp] = copy.deepcopy(pot)\n",
    "    if (istep+1) % Ntime == 0:\n",
    "        t1 = time()\n",
    "        print(\"%3d%% completed: %7d to %7d moves cost %.4f s.\"%((istep+1)/Nstep*100, istep+2-Ntime, istep+1, t1-t2))\n",
    "        t2 = t1\n",
    "    tflag1 = time()\n",
    "    t_nonloop += tflag1 - tflag0\n",
    "tend = time()\n",
    "print(\"%d MC moves cost %.4f s.\"%(Nstep, tend-tstart))\n",
    "\n",
    "print(\"\\nAlgorithm Statistics:\")\n",
    "print(\"acceptance:            | {:.4%}\".format(Naccept/Nstep))\n",
    "# print(\"rebuild Vetlet list:   | {:.4%}\".format(Nbuild/Nstep))\n",
    "\n",
    "print(\"\\nTime Statistics:\")\n",
    "print(\"epair_atom:        | {:2.4e} s. ----> {:.4%}\".format(t_epair_atom, t_epair_atom/(tend-tstart)))\n",
    "# print(\"build_vlist:       | {:2.4e} s. ----> {:.4%}\".format(t_build_vlist, t_build_vlist/(tend-tstart)))\n",
    "print(\"Metropolis:        | {:2.4e} s. ----> {:.4%}\".format(t_metropolis, t_metropolis/(tend-tstart)))\n",
    "print(\"generate new conf: | {:2.4e} s. ----> {:.4%}\".format(t_gennewconf, t_gennewconf/(tend-tstart)))\n",
    "# print(\"deepcopy:          | {:2.4e} s. ----> {:.4%}\".format(t_deepcopy, t_deepcopy/(tend-tstart)))\n",
    "print(\"MC loop:           | {:2.4e} s. ----> {:.4%}\".format(t_loop, t_loop/(tend-tstart)))\n",
    "print(\"non-MC loop:       | {:2.4e} s. ----> {:.4%}\".format(t_nonloop, t_nonloop/(tend-tstart)))"
   ]
  },
  {
   "cell_type": "code",
   "execution_count": 327,
   "id": "4a836ceb",
   "metadata": {},
   "outputs": [],
   "source": [
    "np.save(\"xtraj.npy\", xtraj)\n",
    "np.save(\"pottraj.npy\", pottraj)"
   ]
  },
  {
   "cell_type": "code",
   "execution_count": 328,
   "id": "9a6e24e3",
   "metadata": {},
   "outputs": [
    {
     "data": {
      "text/plain": [
       "[<matplotlib.lines.Line2D at 0x7f8d09974160>]"
      ]
     },
     "execution_count": 328,
     "metadata": {},
     "output_type": "execute_result"
    },
    {
     "data": {
      "image/png": "[encoded data removed]",
      "text/plain": [
       "<Figure size 432x288 with 1 Axes>"
      ]
     },
     "metadata": {
      "needs_background": "light"
     },
     "output_type": "display_data"
    }
   ],
   "source": [
    "plt.plot(pottraj)"
   ]
  },
  {
   "cell_type": "code",
   "execution_count": 329,
   "id": "8e3f3c74",
   "metadata": {},
   "outputs": [
    {
     "name": "stdout",
     "output_type": "stream",
     "text": [
      "0.057059\n"
     ]
    }
   ],
   "source": [
    "print(\"%.6f\"%(Naccept / Nstep))"
   ]
  },
  {
   "cell_type": "markdown",
   "id": "09c1b4d7",
   "metadata": {},
   "source": [
    "## Potential energy distribution"
   ]
  },
  {
   "cell_type": "code",
   "execution_count": 348,
   "id": "5720d46c",
   "metadata": {},
   "outputs": [],
   "source": [
    "potmean_mc = (pottraj/Natom).mean()\n",
    "poterr_mc = errbar(pottraj/Natom)"
   ]
  },
  {
   "cell_type": "code",
   "execution_count": 349,
   "id": "d28b0d51",
   "metadata": {},
   "outputs": [],
   "source": [
    "potmean_md = (log_md[:, 3]/Natom).mean()\n",
    "poterr_md = errbar(log_md[:, 2]/Natom)"
   ]
  },
  {
   "cell_type": "code",
   "execution_count": 351,
   "id": "b7d5f210",
   "metadata": {},
   "outputs": [
    {
     "name": "stdout",
     "output_type": "stream",
     "text": [
      "-6.42936570409648\n"
     ]
    }
   ],
   "source": [
    "print(potmean_mc)"
   ]
  },
  {
   "cell_type": "code",
   "execution_count": 352,
   "id": "fe63da13",
   "metadata": {},
   "outputs": [
    {
     "name": "stdout",
     "output_type": "stream",
     "text": [
      "0.0020037696615327716\n"
     ]
    }
   ],
   "source": [
    "print(poterr_mc)"
   ]
  },
  {
   "cell_type": "code",
   "execution_count": 353,
   "id": "19e4326e",
   "metadata": {},
   "outputs": [
    {
     "name": "stdout",
     "output_type": "stream",
     "text": [
      "-6.427518232006799\n"
     ]
    }
   ],
   "source": [
    "print(potmean_md)"
   ]
  },
  {
   "cell_type": "code",
   "execution_count": 354,
   "id": "a82d4ad8",
   "metadata": {},
   "outputs": [
    {
     "name": "stdout",
     "output_type": "stream",
     "text": [
      "0.0007235459184901278\n"
     ]
    }
   ],
   "source": [
    "print(poterr_md)"
   ]
  },
  {
   "cell_type": "code",
   "execution_count": 364,
   "id": "7abf49be",
   "metadata": {
    "scrolled": false
   },
   "outputs": [
    {
     "data": {
      "text/plain": [
       "<matplotlib.legend.Legend at 0x7f8d1f8ba790>"
      ]
     },
     "execution_count": 364,
     "metadata": {},
     "output_type": "execute_result"
    },
    {
     "data": {
      "image/png": "[encoded data removed]",
      "text/plain": [
       "<Figure size 864x648 with 1 Axes>"
      ]
     },
     "metadata": {
      "needs_background": "light"
     },
     "output_type": "display_data"
    }
   ],
   "source": [
    "plt.figure(figsize=(12, 9))\n",
    "\n",
    "plt.ylabel(\"$U / \\\\epsilon$\", fontsize=16)\n",
    "# plt.ylabel(\"$\\\\rho(U)$\", fontsize=16)\n",
    "\n",
    "plt.xticks([], fontsize=16)\n",
    "plt.yticks(fontsize=16)\n",
    "\n",
    "plt.errorbar(x=0, y = potmean_md, yerr = poterr_md, color = colors[0], capsize = 5.0, label=\"MD\")\n",
    "plt.errorbar(x=0, y = potmean_mc, yerr = poterr_mc, color = colors[1], capsize = 5.0, label=\"MC\")\n",
    "\n",
    "plt.legend(fontsize=16)"
   ]
  },
  {
   "cell_type": "code",
   "execution_count": 363,
   "id": "956e5856",
   "metadata": {},
   "outputs": [
    {
     "data": {
      "text/plain": [
       "<matplotlib.legend.Legend at 0x7f8d1ee56400>"
      ]
     },
     "execution_count": 363,
     "metadata": {},
     "output_type": "execute_result"
    },
    {
     "data": {
      "image/png": "[encoded data removed]",
      "text/plain": [
       "<Figure size 432x288 with 1 Axes>"
      ]
     },
     "metadata": {
      "needs_background": "light"
     },
     "output_type": "display_data"
    }
   ],
   "source": [
    "plt.plot(log_md[:, 3], color = colors[0], label=\"MD\")\n",
    "plt.plot(pottraj, color = colors[1], label=\"MC\")\n",
    "plt.legend(fontsize=16)"
   ]
  },
  {
   "cell_type": "code",
   "execution_count": null,
   "id": "5da42af9",
   "metadata": {},
   "outputs": [],
   "source": []
  },
  {
   "cell_type": "code",
   "execution_count": 241,
   "id": "29b7c1a5",
   "metadata": {},
   "outputs": [],
   "source": []
  },
  {
   "cell_type": "code",
   "execution_count": 333,
   "id": "c2e056b6",
   "metadata": {},
   "outputs": [],
   "source": [
    "def pot_dist(pot_samp, nbin_pot, nsub):\n",
    "    pot_array = np.zeros([nsub, nbin_pot])\n",
    "    pot_dist = np.zeros([nsub, nbin_pot])\n",
    "    \n",
    "    potmin = np.min(pot_samp)\n",
    "    potmax = np.max(pot_samp)\n",
    "    \n",
    "    nsamp = pot_samp.shape[0]\n",
    "#     print(nsamp)\n",
    "    nbatch = int(nsamp / nsub)\n",
    "    pot_samps = pot_samp[nsamp-nbatch*nsub:]\n",
    "#     print(pot_samps.shape)\n",
    "    for isub in range(nsub):\n",
    "        potdist = np.histogram(pot_samp[isub*nbatch:(isub+1)*nbatch], bins=nbin_pot, range = (potmin, potmax), density=True)\n",
    "\n",
    "        pot_array[isub] = potdist[1][:-1] + 0.5 * (potdist[1][1] - potdist[1][0])\n",
    "        pot_dist[isub] = potdist[0]\n",
    "    return pot_array, pot_dist"
   ]
  },
  {
   "cell_type": "code",
   "execution_count": 340,
   "id": "e1124f89",
   "metadata": {},
   "outputs": [],
   "source": [
    "nbin_pot = 100\n",
    "nsub = 10\n",
    "pot_array_mc, pot_dist_mc = pot_dist(pottraj/Natom, nbin_pot, nsub)\n",
    "pot_mc_array = pot_array_mc[0]\n",
    "pot_mc_mean, pot_mc_err = rdf_mean_err(pot_dist_mc) \n",
    "pot_array_md, pot_dist_md = pot_dist(log_md[:, 3]/Natom, nbin_pot, nsub)\n",
    "pot_md_array = pot_array_md[0]\n",
    "pot_md_mean, pot_md_err = rdf_mean_err(pot_dist_md) "
   ]
  },
  {
   "cell_type": "code",
   "execution_count": null,
   "id": "d7c21504",
   "metadata": {},
   "outputs": [],
   "source": []
  },
  {
   "cell_type": "code",
   "execution_count": 346,
   "id": "8df8fd0c",
   "metadata": {},
   "outputs": [
    {
     "name": "stderr",
     "output_type": "stream",
     "text": [
      "The PostScript backend does not support transparency; partially transparent artists will be rendered opaque.\n",
      "The PostScript backend does not support transparency; partially transparent artists will be rendered opaque.\n"
     ]
    },
    {
     "data": {
      "image/png": "[encoded data removed]",
      "text/plain": [
       "<Figure size 864x648 with 1 Axes>"
      ]
     },
     "metadata": {
      "needs_background": "light"
     },
     "output_type": "display_data"
    }
   ],
   "source": [
    "plt.figure(figsize=(12, 9))\n",
    "\n",
    "plt.xlabel(\"$U / \\\\epsilon$\", fontsize=16)\n",
    "plt.ylabel(\"$\\\\rho(U)$\", fontsize=16)\n",
    "\n",
    "plt.xticks(fontsize=16)\n",
    "plt.yticks(fontsize=16)\n",
    "\n",
    "# plt.xlim()\n",
    "plt.ylim(-0.5, 12.5)\n",
    "\n",
    "plt.errorbar(x = pot_mc_array, y = pot_mc_mean, yerr = pot_mc_err, capsize = 5, label = \"MC\")\n",
    "plt.errorbar(x = pot_md_array, y = pot_md_mean, yerr = pot_md_err, capsize = 5, label = \"MD\")\n",
    "plt.legend(fontsize=16)\n",
    "\n",
    "plt.savefig(\"rhoU.eps\", format=\"eps\")"
   ]
  },
  {
   "cell_type": "markdown",
   "id": "e7e00dfd",
   "metadata": {},
   "source": [
    "## Radial distribution function"
   ]
  },
  {
   "cell_type": "code",
   "execution_count": 311,
   "id": "baf552ff",
   "metadata": {
    "scrolled": false
   },
   "outputs": [],
   "source": [
    " def compute_rdf(xtraj):\n",
    "    Nsamp_traj = xtraj.shape[0]\n",
    "    Vol = prd[0]*prd[1]*prd[2]\n",
    "    nbin = 200\n",
    "    nsub=int(Nsamp_traj/10)\n",
    "    dr=rc/nbin\n",
    "    r_array = np.linspace(0, rc, num=nbin, endpoint=False)+0.5*dr\n",
    "    r_array_10 = np.array([r_array for i in range(10)]).reshape(10, nbin)\n",
    "    dists_array = np.zeros([Nsamp_traj, int(Natom*(Natom-1)/2)])\n",
    "    g_r_array = np.zeros([Nsamp_traj, nbin])\n",
    "    nbatch = 100\n",
    "    nloop = int(Nsamp_traj/nbatch)\n",
    "\n",
    "    for iloop in range(nloop):\n",
    "        x_batch = xtraj[iloop*nbatch:(iloop+1)*nbatch]\n",
    "        dist_batch = x_batch[:, None, :] - x_batch[:, :, None]\n",
    "        dist_pbc=(dist_batch/prd-np.floor(dist_batch/prd+0.5))*prd\n",
    "        dist_r=np.sqrt((dist_pbc**2).sum(axis=3))\n",
    "        for ibatch in range(nbatch):\n",
    "            isamp = iloop*nbatch + ibatch\n",
    "    #         print(isamp)\n",
    "            dists_array[isamp] = dist_r[ibatch][np.triu_indices(Natom, 1)]\n",
    "            hist_r = np.histogram(dists_array[isamp], bins=nbin, range=(0, rc), density=False)\n",
    "            g_r_array[isamp] = 2*hist_r[0]/4/np.pi/r_array**2/dr/Natom/(Natom-1)*Vol\n",
    "    g_r_10 = np.zeros([10, nbin])\n",
    "    for isub in range(10):\n",
    "        g_r_10[isub] = g_r_array[isub*nsub:(isub+1)*nsub].mean(axis=0)\n",
    "    return r_array_10, g_r_10"
   ]
  },
  {
   "cell_type": "code",
   "execution_count": 151,
   "id": "d5bb9253",
   "metadata": {},
   "outputs": [],
   "source": [
    "def rdf_mean_err(goo):\n",
    "    return goo.mean(axis=0), np.sqrt(goo.var(axis=0))/3"
   ]
  },
  {
   "cell_type": "code",
   "execution_count": 312,
   "id": "036c866c",
   "metadata": {},
   "outputs": [],
   "source": [
    "r_md, g_array_md = compute_rdf(xtraj_md)\n",
    "r_md_array = r_md[0]\n",
    "g_md_mean, g_md_err = rdf_mean_err(g_array_md) "
   ]
  },
  {
   "cell_type": "code",
   "execution_count": 197,
   "id": "8ce75161",
   "metadata": {},
   "outputs": [],
   "source": [
    "r_mc, g_array_mc = compute_rdf(xtraj)\n",
    "r_mc_array = r_mc[0]\n",
    "g_mc_mean, g_mc_err = rdf_mean_err(g_array_mc) "
   ]
  },
  {
   "cell_type": "code",
   "execution_count": 339,
   "id": "581d7517",
   "metadata": {},
   "outputs": [
    {
     "name": "stderr",
     "output_type": "stream",
     "text": [
      "The PostScript backend does not support transparency; partially transparent artists will be rendered opaque.\n",
      "The PostScript backend does not support transparency; partially transparent artists will be rendered opaque.\n"
     ]
    },
    {
     "data": {
      "image/png": "[encoded data removed]",
      "text/plain": [
       "<Figure size 864x648 with 1 Axes>"
      ]
     },
     "metadata": {
      "needs_background": "light"
     },
     "output_type": "display_data"
    }
   ],
   "source": [
    "plt.figure(figsize=(12, 9))\n",
    "\n",
    "plt.xlabel(\"$r / \\\\sigma$\", fontsize=16)\n",
    "plt.ylabel(\"$g(r)$\", fontsize=16)\n",
    "\n",
    "plt.xticks(np.arange(0, 2.51, 0.5), fontsize=16)\n",
    "plt.yticks(fontsize=16)\n",
    "\n",
    "plt.xlim(0.6, 2.5)\n",
    "plt.ylim(0.0, 4.5)\n",
    "\n",
    "plt.errorbar(r_mc_array, y=g_mc_mean, yerr=g_mc_err, capsize = 5.0, label=\"MC\")\n",
    "plt.errorbar(r_md_array, y=g_md_mean, yerr=g_md_err, capsize = 5.0, label=\"MD\")\n",
    "plt.legend(fontsize=16)\n",
    "\n",
    "plt.savefig(\"gr.eps\", format=\"eps\")"
   ]
  },
  {
   "cell_type": "code",
   "execution_count": null,
   "id": "6844adbe",
   "metadata": {},
   "outputs": [],
   "source": []
  }
 ],
 "metadata": {
  "kernelspec": {
   "display_name": "Python 3",
   "language": "python",
   "name": "python3"
  },
  "language_info": {
   "codemirror_mode": {
    "name": "ipython",
    "version": 3
   },
   "file_extension": ".py",
   "mimetype": "text/x-python",
   "name": "python",
   "nbconvert_exporter": "python",
   "pygments_lexer": "ipython3",
   "version": "3.8.8"
  }
 },
 "nbformat": 4,
 "nbformat_minor": 5
}
