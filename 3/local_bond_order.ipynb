{
 "cells": [
  {
   "cell_type": "code",
   "execution_count": 153,
   "id": "c2b0aedb",
   "metadata": {},
   "outputs": [],
   "source": [
    "import numpy as np\n",
    "import copy\n",
    "from time import time\n",
    "# from numba import njit, prange\n",
    "import matplotlib.pyplot as plt\n",
    "from matplotlib import text\n",
    "%matplotlib inline\n",
    "from mpl_toolkits.axes_grid1.inset_locator import inset_axes, InsetPosition, mark_inset\n",
    "from scipy import special\n",
    "import pandas as pd"
   ]
  },
  {
   "cell_type": "markdown",
   "id": "305a717f",
   "metadata": {},
   "source": [
    "## From Cartesian coordinate to spherical coordiante\n",
    "This part defines the transformation between the Cartesian coordinate $(x, y, z)$ and the spherical coordiante $(r, \\theta, \\phi)$:\n",
    "\\begin{aligned}\n",
    "x&=r\\sin\\theta\\cos\\phi \\\\\n",
    "y&=r\\sin\\theta\\sin\\phi \\\\\n",
    "z&=r\\cos\\theta\n",
    "\\end{aligned}\n",
    "and the spherical coordinate can be obtained from\n",
    "\\begin{aligned}\n",
    "r&=\\sqrt{x^2+y^2+z^2} \\\\\n",
    "\\theta&=\\arccos\\left(\\frac{z}{r}\\right) \\\\\n",
    "\\phi&=\\arctan\\left(\\frac{y}{x}\\right)\n",
    "\\end{aligned}\n",
    "with a modification of the definition of the $\\arctan$ function in $\\phi$ to guarantee that\n",
    "\\begin{aligned}\n",
    "r&\\in[0, +\\infty) \\\\\n",
    "\\theta&\\in[0, \\pi] \\\\\n",
    "\\phi& \\in[0, 2\\pi]\n",
    "\\end{aligned}\n",
    "\n",
    "Note that the definitions of $\\theta$ and $\\phi$ are opposite to those in the spherical harmonics function in scipy."
   ]
  },
  {
   "cell_type": "code",
   "execution_count": 100,
   "id": "eb1df891",
   "metadata": {},
   "outputs": [],
   "source": [
    "def xyz2sph(x):\n",
    "    r = np.sqrt((x**2).sum())\n",
    "    theta = np.arccos(x[2]/r)\n",
    "    phi = (np.arctan2(x[1], x[0]))%twopi\n",
    "    return np.array([r, theta, phi])"
   ]
  },
  {
   "cell_type": "code",
   "execution_count": 103,
   "id": "55cc3666",
   "metadata": {},
   "outputs": [],
   "source": [
    "def xyz2sph_array(x):\n",
    "    r = np.sqrt((x**2).sum(axis=1))\n",
    "    theta = np.arccos(x[:, 2]/r)\n",
    "    phi = (np.arctan2(x[:, 1], x[:, 0]))%twopi\n",
    "    return np.c_[r, theta, phi]"
   ]
  },
  {
   "cell_type": "markdown",
   "id": "74305ddd",
   "metadata": {},
   "source": [
    "## Read the initial configuration"
   ]
  },
  {
   "cell_type": "code",
   "execution_count": 105,
   "id": "a1b57728",
   "metadata": {},
   "outputs": [],
   "source": [
    "Natom = 0\n",
    "lo = []\n",
    "hi = []\n",
    "x0 = []\n",
    "with open(\"init.xyz\", \"r\") as f:\n",
    "    for i in range(3):\n",
    "        f.readline()\n",
    "    Natom = int(f.readline().split()[0])\n",
    "    f.readline()\n",
    "    for i in range(3):\n",
    "        line = f.readline().split()\n",
    "        lo.append(float(line[0]))\n",
    "        hi.append(float(line[1]))\n",
    "    f.readline()\n",
    "    for i in range(Natom):\n",
    "        x0.append(f.readline().split()[2:])\n",
    "lo = np.array(lo)\n",
    "hi = np.array(hi)\n",
    "prd = hi - lo\n",
    "x0 = np.array(x0, dtype = float)"
   ]
  },
  {
   "cell_type": "code",
   "execution_count": 327,
   "id": "6fd6e01e",
   "metadata": {},
   "outputs": [],
   "source": [
    "Natom = 0\n",
    "lo = []\n",
    "hi = []\n",
    "x_fcc = []\n",
    "with open(\"fcc.xyz\", \"r\") as f:\n",
    "    for i in range(3):\n",
    "        f.readline()\n",
    "    Natom = int(f.readline().split()[0])\n",
    "    f.readline()\n",
    "    for i in range(3):\n",
    "        line = f.readline().split()\n",
    "        lo.append(float(line[0]))\n",
    "        hi.append(float(line[1]))\n",
    "    f.readline()\n",
    "    for i in range(Natom):\n",
    "        x_fcc.append(f.readline().split()[2:])\n",
    "lo = np.array(lo)\n",
    "hi = np.array(hi)\n",
    "prd_fcc = hi - lo\n",
    "x_fcc = np.array(x_fcc, dtype = float)"
   ]
  },
  {
   "cell_type": "code",
   "execution_count": 329,
   "id": "4dec32d9",
   "metadata": {},
   "outputs": [
    {
     "data": {
      "text/plain": [
       "(256, 3)"
      ]
     },
     "execution_count": 329,
     "metadata": {},
     "output_type": "execute_result"
    }
   ],
   "source": [
    "x_fcc.shape"
   ]
  },
  {
   "cell_type": "code",
   "execution_count": 330,
   "id": "cb3e9bf5",
   "metadata": {},
   "outputs": [
    {
     "data": {
      "text/plain": [
       "array([5.54689019, 5.54689019, 5.54689019])"
      ]
     },
     "execution_count": 330,
     "metadata": {},
     "output_type": "execute_result"
    }
   ],
   "source": [
    "prd_fcc"
   ]
  },
  {
   "cell_type": "code",
   "execution_count": 331,
   "id": "425277ae",
   "metadata": {},
   "outputs": [
    {
     "data": {
      "text/plain": [
       "5.546890194805077"
      ]
     },
     "execution_count": 331,
     "metadata": {},
     "output_type": "execute_result"
    }
   ],
   "source": [
    "2.7734450974025386*2"
   ]
  },
  {
   "cell_type": "markdown",
   "id": "d38f17da",
   "metadata": {},
   "source": [
    "## Distance under the periodic boundary condition"
   ]
  },
  {
   "cell_type": "code",
   "execution_count": 19,
   "id": "c0c52924",
   "metadata": {},
   "outputs": [],
   "source": [
    "def pbc_dist(dist, prd):\n",
    "    s = dist / prd\n",
    "    return (s - np.floor(s+0.5))*prd"
   ]
  },
  {
   "cell_type": "code",
   "execution_count": 128,
   "id": "64ac2a32",
   "metadata": {},
   "outputs": [],
   "source": [
    "nharm = 6\n",
    "marray = np.arange(-nharm, nharm+1)"
   ]
  },
  {
   "cell_type": "code",
   "execution_count": 129,
   "id": "07d87706",
   "metadata": {},
   "outputs": [
    {
     "data": {
      "text/plain": [
       "array([-6, -5, -4, -3, -2, -1,  0,  1,  2,  3,  4,  5,  6])"
      ]
     },
     "execution_count": 129,
     "metadata": {},
     "output_type": "execute_result"
    }
   ],
   "source": [
    "marray"
   ]
  },
  {
   "cell_type": "code",
   "execution_count": 333,
   "id": "e6dc380d",
   "metadata": {},
   "outputs": [
    {
     "data": {
      "text/plain": [
       "0.6933699999999998"
      ]
     },
     "execution_count": 333,
     "metadata": {},
     "output_type": "execute_result"
    }
   ],
   "source": [
    "2.77345-2.08008"
   ]
  },
  {
   "cell_type": "code",
   "execution_count": 315,
   "id": "7358614f",
   "metadata": {},
   "outputs": [],
   "source": [
    "def q6i(x, i, prd):\n",
    "    xi = x[i]\n",
    "    q6i_vec = np.zeros(13)\n",
    "    xjs = np.delete(x, i, axis=0)\n",
    "    dxs = pbc_dist(xjs-xi, prd)\n",
    "    rijs = np.sqrt((dxs**2).sum(axis=1))\n",
    "    dxs_cut = dxs[rijs <= 1.5]\n",
    "    rijs = np.insert(rijs, i, 0)\n",
    "    neighi = np.array(np.where(rijs<=1.5))\n",
    "    neighi = neighi[neighi!=i]\n",
    "#     print(dxs_cut)\n",
    "    sph = xyz2sph_array(dxs_cut)\n",
    "#     print(sph)\n",
    "#     print(sph[:, 0])\n",
    "#     print(sph[:, 1:]/np.pi)\n",
    "    theta = sph[:, 1]\n",
    "    phi = sph[:, 2]\n",
    "    Ynmj = np.zeros([2*nharm+1, dxs_cut.shape[0]], dtype=\"complex\")\n",
    "    for mn in range(2*nharm+1):\n",
    "        Ynmj[mn] = special.sph_harm(marray[mn], nharm, phi, theta)\n",
    "#     print(Ynmj)\n",
    "#     print(Ynmj.shape)\n",
    "#     Ynm = special.sph_harm(1, nharm, phi, theta)\n",
    "    if Ynmj.shape[1]!=0:\n",
    "        Ynm = Ynmj.mean(axis=1)\n",
    "    else:\n",
    "        Ynm = np.zeros(2*nharm+1)\n",
    "#     print(Ynmj[:, -1])\n",
    "    return Ynm, neighi"
   ]
  },
  {
   "cell_type": "code",
   "execution_count": 317,
   "id": "9c1fc113",
   "metadata": {},
   "outputs": [],
   "source": [
    "def q6(x, prd):\n",
    "    natom = x.shape[0]\n",
    "    q6is = np.zeros([natom, 2*nharm+1], dtype=\"complex\")\n",
    "    neighbors = []\n",
    "    for i in range(natom):\n",
    "        q6is[i], neighi = q6i(x, i, prd)\n",
    "#         print(neighi)\n",
    "        neighbors.append(np.array(neighi))\n",
    "    return q6is, neighbors"
   ]
  },
  {
   "cell_type": "code",
   "execution_count": 368,
   "id": "378cb131",
   "metadata": {},
   "outputs": [],
   "source": [
    "def nbond(x, prd):\n",
    "    natom = x.shape[0]\n",
    "    nb = np.zeros(natom)\n",
    "    q6is, neighbors = q6(x, prd)\n",
    "    for i in range(natom):\n",
    "        qdot = np.dot(q6is[neighbors[i]], np.conjugate(q6is[i]))\n",
    "        qdotr = qdot.real\n",
    "        nb[i] = (qdotr[qdotr>=0.65]).shape[0]\n",
    "    return nb"
   ]
  },
  {
   "cell_type": "code",
   "execution_count": 285,
   "id": "fcf775f4",
   "metadata": {},
   "outputs": [],
   "source": [
    "df = pd.read_excel('r_12.xlsx', header=None)\n",
    "xqj = np.array(df)\n",
    "prd_qj = np.array([4, 12, 30])"
   ]
  },
  {
   "cell_type": "code",
   "execution_count": 258,
   "id": "198dc149",
   "metadata": {},
   "outputs": [],
   "source": [
    "df = pd.read_excel('r_27.xlsx', header=None)\n",
    "x27 = np.array(df)\n",
    "prd_27 = np.array([4, 12, 30])"
   ]
  },
  {
   "cell_type": "code",
   "execution_count": 378,
   "id": "1e5706b8",
   "metadata": {},
   "outputs": [],
   "source": [
    "rs = 1.5"
   ]
  },
  {
   "cell_type": "code",
   "execution_count": 385,
   "id": "3ba1c066",
   "metadata": {},
   "outputs": [],
   "source": [
    "# def cluster_detect(x, prd):\n",
    "#     x0 = x[0]\n",
    "# #     xjs = np.delete(x, i, axis=0)\n",
    "#     dxs = pbc_dist(x-x0, prd)\n",
    "#     rijs = np.sqrt((dxs**2).sum(axis=1))\n",
    "#     neigh0 = np.where(rijs <= rs)[0]\n",
    "#     clustered = np.array([neigh0], dtype=\"object\")\n",
    "#     for ii in clustered[0][1:]:\n",
    "#         n \n",
    "#     return clustered"
   ]
  },
  {
   "cell_type": "code",
   "execution_count": 386,
   "id": "a8e31aa2",
   "metadata": {},
   "outputs": [
    {
     "data": {
      "text/plain": [
       "array([[0, 5, 44, 60, 77, 101, 121, 168, 190, 210, 211, 248, 266, 281,\n",
       "        308, 324, 326]], dtype=object)"
      ]
     },
     "execution_count": 386,
     "metadata": {},
     "output_type": "execute_result"
    }
   ],
   "source": [
    "cluster_detect(xqj, prd_qj)"
   ]
  },
  {
   "cell_type": "code",
   "execution_count": 645,
   "id": "c67ea12f",
   "metadata": {},
   "outputs": [],
   "source": [
    "def DFS(i, k, x, prd, label):\n",
    "#     print(\"i=%d\"%(i))\n",
    "    natom = x.shape[0]\n",
    "    label[i] = k\n",
    "    \n",
    "    xi = x[i]\n",
    "    dxs = pbc_dist(x-xi, prd)\n",
    "    rijs = np.sqrt((dxs**2).sum(axis=1))\n",
    "    \n",
    "    idx = np.arange(natom)\n",
    "    idx0 = idx[idx!=i]\n",
    "#     print(idx0)\n",
    "#     unvisited = idx0[label[idx0]==0]\n",
    "    for j in idx0:\n",
    "        if label[j] != 0:\n",
    "            continue\n",
    "        else:\n",
    "            dx = pbc_dist(x[j]-x[i], prd)\n",
    "#             rij = np.sqrt((dx**2).sum())\n",
    "            rij = rijs[j]\n",
    "            if rij <= 1.5:\n",
    "#                 if i==4 or i==15:\n",
    "#                 print(i, j, k, rij)\n",
    "                label = DFS(j, k, x, prd, label)\n",
    "#             neigh_uv = unvisited[rijs[unvisited]<=1.5]\n",
    "#     print(neigh_uv)\n",
    "#     print(len(neigh_uv))\n",
    "#     if(len(neigh_uv)>0):\n",
    "#         for j in neigh_uv:\n",
    "#             print(\"len = %d, j=%d\"%(len(neigh_uv), j))\n",
    "#             label = DFS(j, k, x, prd, label)\n",
    "#     print(\"after if, len=%d\"%(len(neigh_uv)))\n",
    "    return label"
   ]
  },
  {
   "cell_type": "code",
   "execution_count": 617,
   "id": "3270dbbd",
   "metadata": {},
   "outputs": [],
   "source": [
    "label0 = np.zeros(xqj.shape[0])"
   ]
  },
  {
   "cell_type": "code",
   "execution_count": 618,
   "id": "1ba9ed82",
   "metadata": {
    "scrolled": false
   },
   "outputs": [],
   "source": [
    "label_qj = DFS(0, 2, xqj, prd_qj, label0)"
   ]
  },
  {
   "cell_type": "code",
   "execution_count": 619,
   "id": "bff656d0",
   "metadata": {},
   "outputs": [
    {
     "data": {
      "text/plain": [
       "array([  1,   6,  45,  47,  61,  78, 102, 122, 169, 191, 211, 212, 249,\n",
       "       267, 282, 295, 309, 312, 325, 327])"
      ]
     },
     "execution_count": 619,
     "metadata": {},
     "output_type": "execute_result"
    }
   ],
   "source": [
    "np.where(label_qj==2)[0]+1"
   ]
  },
  {
   "cell_type": "code",
   "execution_count": 646,
   "id": "9debdc21",
   "metadata": {},
   "outputs": [],
   "source": [
    "def cluster_detect(x, prd):\n",
    "    natom = x.shape[0]\n",
    "    label = np.zeros(natom)\n",
    "    k = 0\n",
    "#     print(label)\n",
    "    for i in range(natom):\n",
    "        if label[i] == 0:\n",
    "            k += 1\n",
    "#             print(i)\n",
    "            label = DFS(i, k, x, prd, label)\n",
    "    return label"
   ]
  },
  {
   "cell_type": "code",
   "execution_count": 655,
   "id": "4f9d3456",
   "metadata": {},
   "outputs": [],
   "source": [
    "def cluster_size(x, prd):\n",
    "    label = cluster_detect(x, prd)\n",
    "    ncluster = int(np.max(label))\n",
    "    sizes = np.zeros(ncluster)\n",
    "    for i in range(ncluster):\n",
    "        sizes[i] = np.count_nonzero(label[label==i+1])\n",
    "    return sizes"
   ]
  },
  {
   "cell_type": "code",
   "execution_count": 641,
   "id": "de6a304e",
   "metadata": {},
   "outputs": [
    {
     "data": {
      "text/plain": [
       "10.988241396512084"
      ]
     },
     "execution_count": 641,
     "metadata": {},
     "output_type": "execute_result"
    }
   ],
   "source": [
    "np.sqrt(((xqj[253]-xqj[15])**2).sum())"
   ]
  },
  {
   "cell_type": "code",
   "execution_count": 633,
   "id": "9cd286b1",
   "metadata": {},
   "outputs": [
    {
     "data": {
      "text/plain": [
       "1.365965897923961"
      ]
     },
     "execution_count": 633,
     "metadata": {},
     "output_type": "execute_result"
    }
   ],
   "source": [
    "np.sqrt(((pbc_dist(xqj[253]-xqj[15], prd_qj))**2).sum())"
   ]
  },
  {
   "cell_type": "code",
   "execution_count": 636,
   "id": "1e56396d",
   "metadata": {},
   "outputs": [
    {
     "data": {
      "text/plain": [
       "array([-1.50717081, -5.09099456, 11.00868107])"
      ]
     },
     "execution_count": 636,
     "metadata": {},
     "output_type": "execute_result"
    }
   ],
   "source": [
    "xqj[253]"
   ]
  },
  {
   "cell_type": "code",
   "execution_count": 637,
   "id": "164bf9ac",
   "metadata": {},
   "outputs": [
    {
     "data": {
      "text/plain": [
       "array([-1.28776139,  5.86215486, 10.15907751])"
      ]
     },
     "execution_count": 637,
     "metadata": {},
     "output_type": "execute_result"
    }
   ],
   "source": [
    "xqj[15]"
   ]
  },
  {
   "cell_type": "code",
   "execution_count": 647,
   "id": "dcd207a1",
   "metadata": {
    "scrolled": false
   },
   "outputs": [],
   "source": [
    "label_qj = cluster_detect(xqj, prd_qj)"
   ]
  },
  {
   "cell_type": "code",
   "execution_count": 656,
   "id": "c9a9bc63",
   "metadata": {
    "scrolled": false
   },
   "outputs": [
    {
     "data": {
      "text/plain": [
       "array([ 1.,  1.,  1.,  1.,  1.,  1.,  2.,  4.,  4.,  8.,  9., 10., 10.,\n",
       "       11., 12., 12., 13., 14., 16., 20., 20., 20., 21., 28., 31., 33.,\n",
       "       39.])"
      ]
     },
     "execution_count": 656,
     "metadata": {},
     "output_type": "execute_result"
    }
   ],
   "source": [
    "np.sort(cluster_size(xqj, prd_qj))"
   ]
  },
  {
   "cell_type": "code",
   "execution_count": 657,
   "id": "10e0909d",
   "metadata": {
    "scrolled": false
   },
   "outputs": [
    {
     "data": {
      "text/plain": [
       "39.0"
      ]
     },
     "execution_count": 657,
     "metadata": {},
     "output_type": "execute_result"
    }
   ],
   "source": [
    "np.max(cluster_size(xqj, prd_qj))"
   ]
  },
  {
   "cell_type": "code",
   "execution_count": 658,
   "id": "7be99773",
   "metadata": {},
   "outputs": [
    {
     "data": {
      "text/plain": [
       "27"
      ]
     },
     "execution_count": 658,
     "metadata": {},
     "output_type": "execute_result"
    }
   ],
   "source": [
    "len(cluster_size(xqj, prd_qj))"
   ]
  },
  {
   "cell_type": "code",
   "execution_count": 659,
   "id": "b7006066",
   "metadata": {},
   "outputs": [
    {
     "data": {
      "text/plain": [
       "7.0"
      ]
     },
     "execution_count": 659,
     "metadata": {},
     "output_type": "execute_result"
    }
   ],
   "source": [
    "np.max(cluster_size(x27, prd_27))"
   ]
  },
  {
   "cell_type": "code",
   "execution_count": 661,
   "id": "fa9154a7",
   "metadata": {},
   "outputs": [
    {
     "data": {
      "text/plain": [
       "8"
      ]
     },
     "execution_count": 661,
     "metadata": {},
     "output_type": "execute_result"
    }
   ],
   "source": [
    "len(ç)"
   ]
  },
  {
   "cell_type": "code",
   "execution_count": 660,
   "id": "6af09cf3",
   "metadata": {},
   "outputs": [
    {
     "data": {
      "text/plain": [
       "array([1., 2., 3., 4., 4., 3., 2., 2., 5., 6., 7., 7., 8., 8., 6., 7., 7.,\n",
       "       7., 2., 1., 4., 2., 2., 2., 3., 3., 3.])"
      ]
     },
     "execution_count": 660,
     "metadata": {},
     "output_type": "execute_result"
    }
   ],
   "source": [
    "cluster_detect(x27, prd_27)"
   ]
  },
  {
   "cell_type": "code",
   "execution_count": 662,
   "id": "1e4892f5",
   "metadata": {},
   "outputs": [
    {
     "data": {
      "text/plain": [
       "array([2., 7., 5., 3., 1., 2., 5., 2.])"
      ]
     },
     "execution_count": 662,
     "metadata": {},
     "output_type": "execute_result"
    }
   ],
   "source": [
    "cluster_size(x27, prd_27)"
   ]
  },
  {
   "cell_type": "code",
   "execution_count": 563,
   "id": "8a59221d",
   "metadata": {},
   "outputs": [
    {
     "data": {
      "text/plain": [
       "4.0"
      ]
     },
     "execution_count": 563,
     "metadata": {},
     "output_type": "execute_result"
    }
   ],
   "source": [
    "label_qj[15]"
   ]
  },
  {
   "cell_type": "code",
   "execution_count": 544,
   "id": "cadad981",
   "metadata": {},
   "outputs": [
    {
     "data": {
      "text/plain": [
       "array([  4,  15,  25,  42,  63,  66,  75,  79,  96, 104, 112, 130, 131,\n",
       "       139, 149, 214, 223, 224, 228, 249, 250, 253, 261, 267, 273, 277,\n",
       "       291, 292, 315, 322, 334])"
      ]
     },
     "execution_count": 544,
     "metadata": {},
     "output_type": "execute_result"
    }
   ],
   "source": [
    "idx4"
   ]
  },
  {
   "cell_type": "code",
   "execution_count": 545,
   "id": "466d4534",
   "metadata": {},
   "outputs": [
    {
     "name": "stdout",
     "output_type": "stream",
     "text": [
      "66 1.329674225531355\n",
      "139 0.9061592195213352\n",
      "223 0.7680769508537045\n",
      "228 1.0506262308996785\n",
      "253 1.365965897923961\n",
      "261 1.447769706220097\n",
      "273 0.6497693625297983\n",
      "277 0.9683138578049645\n",
      "322 0.8272187115167473\n"
     ]
    }
   ],
   "source": [
    "for i in neigh15:\n",
    "    print(i, np.sqrt((pbc_dist(xqj[15]-xqj[i], prd_qj)**2).sum()))"
   ]
  },
  {
   "cell_type": "code",
   "execution_count": 546,
   "id": "e19aa88c",
   "metadata": {},
   "outputs": [],
   "source": [
    "idx4 = np.where(label_qj==4)[0]"
   ]
  },
  {
   "cell_type": "code",
   "execution_count": 430,
   "id": "89ad5360",
   "metadata": {},
   "outputs": [
    {
     "data": {
      "text/plain": [
       "array([ 4, 12, 30])"
      ]
     },
     "execution_count": 430,
     "metadata": {},
     "output_type": "execute_result"
    }
   ],
   "source": [
    "prd_qj"
   ]
  },
  {
   "cell_type": "code",
   "execution_count": 444,
   "id": "5c8dd620",
   "metadata": {},
   "outputs": [],
   "source": [
    "idx4_ = idx4[idx4!=15]\n",
    "xj4 = xqj[idx4_]\n",
    "dxs = pbc_dist(xj4-xqj[15], prd_qj)\n",
    "rijs = np.sqrt((dxs**2).sum(axis=1))\n",
    "neigh15 = idx4_[np.where(rijs<1.5)]"
   ]
  },
  {
   "cell_type": "code",
   "execution_count": 451,
   "id": "ec0a2c96",
   "metadata": {},
   "outputs": [],
   "source": [
    "idx4_ = idx4[idx4!=4]\n",
    "xj4 = xqj[idx4_]\n",
    "dxs = pbc_dist(xj4-xqj[4], prd_qj)\n",
    "rijs = np.sqrt((dxs**2).sum(axis=1))\n",
    "neigh4 = idx4_[np.where(rijs<1.5)]"
   ]
  },
  {
   "cell_type": "code",
   "execution_count": 455,
   "id": "e17c2694",
   "metadata": {},
   "outputs": [],
   "source": [
    "idx4_ = idx4[idx4!=25]\n",
    "xj4 = xqj[idx4_]\n",
    "dxs = pbc_dist(xj4-xqj[25], prd_qj)\n",
    "rijs = np.sqrt((dxs**2).sum(axis=1))\n",
    "neigh25 = idx4_[np.where(rijs<1.5)]"
   ]
  },
  {
   "cell_type": "code",
   "execution_count": 456,
   "id": "5a06b6e0",
   "metadata": {},
   "outputs": [
    {
     "data": {
      "text/plain": [
       "array([  4,  42,  63,  75, 104, 112, 130, 131, 149, 224, 249, 250, 267,\n",
       "       291, 292, 315, 334])"
      ]
     },
     "execution_count": 456,
     "metadata": {},
     "output_type": "execute_result"
    }
   ],
   "source": [
    "neigh25"
   ]
  },
  {
   "cell_type": "code",
   "execution_count": 452,
   "id": "5f287e0d",
   "metadata": {},
   "outputs": [
    {
     "data": {
      "text/plain": [
       "array([ 25,  42,  63,  75,  96, 104, 112, 149, 224, 250, 292, 315, 334])"
      ]
     },
     "execution_count": 452,
     "metadata": {},
     "output_type": "execute_result"
    }
   ],
   "source": [
    "neigh4"
   ]
  },
  {
   "cell_type": "code",
   "execution_count": 454,
   "id": "12b656b5",
   "metadata": {},
   "outputs": [
    {
     "data": {
      "text/plain": [
       "array([ 66, 139, 223, 228, 253, 261, 273, 277, 322])"
      ]
     },
     "execution_count": 454,
     "metadata": {},
     "output_type": "execute_result"
    }
   ],
   "source": [
    "neigh15"
   ]
  },
  {
   "cell_type": "code",
   "execution_count": 435,
   "id": "3fad93a9",
   "metadata": {},
   "outputs": [
    {
     "data": {
      "text/plain": [
       "(30,)"
      ]
     },
     "execution_count": 435,
     "metadata": {},
     "output_type": "execute_result"
    }
   ],
   "source": [
    "rijs.shape"
   ]
  },
  {
   "cell_type": "code",
   "execution_count": 438,
   "id": "3d749ebf",
   "metadata": {},
   "outputs": [
    {
     "data": {
      "text/plain": [
       "array([3.26743417, 3.41213978, 2.7446168 , 2.9579712 , 1.32967423,\n",
       "       3.27957405, 2.1869734 , 2.23359601, 2.16675739, 3.18743038,\n",
       "       2.70501053, 4.43143243, 0.90615922, 3.33208046, 1.67330398,\n",
       "       0.76807695, 3.49434485, 1.05062623, 2.49493107, 3.2808227 ,\n",
       "       1.3659659 , 1.44776971, 3.94134956, 0.64976936, 0.96831386,\n",
       "       2.49493616, 3.59239738, 3.54699493, 0.82721871, 2.85644189])"
      ]
     },
     "execution_count": 438,
     "metadata": {},
     "output_type": "execute_result"
    }
   ],
   "source": [
    "rijs"
   ]
  },
  {
   "cell_type": "code",
   "execution_count": 439,
   "id": "40a24caf",
   "metadata": {},
   "outputs": [
    {
     "data": {
      "text/plain": [
       "(9,)"
      ]
     },
     "execution_count": 439,
     "metadata": {},
     "output_type": "execute_result"
    }
   ],
   "source": [
    "(rijs[rijs<1.5]).shape"
   ]
  },
  {
   "cell_type": "code",
   "execution_count": 442,
   "id": "77b568c7",
   "metadata": {},
   "outputs": [
    {
     "data": {
      "text/plain": [
       "array([ 66, 139, 223, 228, 253, 261, 273, 277, 322])"
      ]
     },
     "execution_count": 442,
     "metadata": {},
     "output_type": "execute_result"
    }
   ],
   "source": []
  },
  {
   "cell_type": "code",
   "execution_count": 420,
   "id": "0aa958c1",
   "metadata": {},
   "outputs": [
    {
     "data": {
      "text/plain": [
       "array([1.32967423, 0.90615922, 0.6740346 , 1.05062623, 1.21109676,\n",
       "       1.44776971, 0.64976936, 0.96831386, 0.82721871])"
      ]
     },
     "execution_count": 420,
     "metadata": {},
     "output_type": "execute_result"
    }
   ],
   "source": [
    "rijs[rijs<1.5]"
   ]
  },
  {
   "cell_type": "code",
   "execution_count": 417,
   "id": "220ea591",
   "metadata": {},
   "outputs": [
    {
     "data": {
      "text/plain": [
       "array([  4,  25,  42,  63,  66,  75,  79,  96, 104, 112, 130, 131, 139,\n",
       "       149, 214, 223, 224, 228, 249, 250, 253, 261, 267, 273, 277, 291,\n",
       "       292, 315, 322, 334])"
      ]
     },
     "execution_count": 417,
     "metadata": {},
     "output_type": "execute_result"
    }
   ],
   "source": [
    "idx4[idx4!=15]"
   ]
  },
  {
   "cell_type": "code",
   "execution_count": 414,
   "id": "32d8d67e",
   "metadata": {},
   "outputs": [
    {
     "data": {
      "text/plain": [
       "array([  4,  15,  25,  42,  63,  66,  75,  79,  96, 104, 112, 130, 131,\n",
       "       139, 149, 214, 223, 224, 228, 249, 250, 253, 261, 267, 273, 277,\n",
       "       291, 292, 315, 322, 334])"
      ]
     },
     "execution_count": 414,
     "metadata": {},
     "output_type": "execute_result"
    }
   ],
   "source": [
    "idx4[0]"
   ]
  },
  {
   "cell_type": "code",
   "execution_count": null,
   "id": "0cba8a38",
   "metadata": {},
   "outputs": [],
   "source": []
  },
  {
   "cell_type": "code",
   "execution_count": 547,
   "id": "59452966",
   "metadata": {},
   "outputs": [
    {
     "data": {
      "text/plain": [
       "39.0"
      ]
     },
     "execution_count": 547,
     "metadata": {},
     "output_type": "execute_result"
    }
   ],
   "source": []
  },
  {
   "cell_type": "code",
   "execution_count": null,
   "id": "e3e35641",
   "metadata": {},
   "outputs": [],
   "source": []
  },
  {
   "cell_type": "code",
   "execution_count": null,
   "id": "12b251b4",
   "metadata": {},
   "outputs": [],
   "source": []
  },
  {
   "cell_type": "code",
   "execution_count": null,
   "id": "f075ebc1",
   "metadata": {},
   "outputs": [],
   "source": []
  },
  {
   "cell_type": "code",
   "execution_count": null,
   "id": "c8197cda",
   "metadata": {},
   "outputs": [],
   "source": []
  }
 ],
 "metadata": {
  "kernelspec": {
   "display_name": "Python 3",
   "language": "python",
   "name": "python3"
  },
  "language_info": {
   "codemirror_mode": {
    "name": "ipython",
    "version": 3
   },
   "file_extension": ".py",
   "mimetype": "text/x-python",
   "name": "python",
   "nbconvert_exporter": "python",
   "pygments_lexer": "ipython3",
   "version": "3.8.8"
  }
 },
 "nbformat": 4,
 "nbformat_minor": 5
}
